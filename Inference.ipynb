{
 "cells": [
  {
   "cell_type": "code",
   "execution_count": 1,
   "id": "0f1fd16b-5694-4d2f-9ab4-117019f8f36e",
   "metadata": {},
   "outputs": [],
   "source": [
    "import os\n",
    "import tensorflow as tf\n",
    "import numpy as np\n",
    "import pandas as pd\n",
    "from utils import data_utils,model_utils\n",
    "import json\n",
    "from tensorflow.compat.v1 import ConfigProto\n",
    "from tensorflow.compat.v1 import InteractiveSession\n",
    "from engine import load_config,inp_tok,out_tok,run_trainer,input_config,output_config\n",
    "from engine import checkpoint_dir,data"
   ]
  },
  {
   "cell_type": "markdown",
   "id": "220be073-f26d-4894-98d9-c6e783e797ac",
   "metadata": {},
   "source": [
    "### Build inference model"
   ]
  },
  {
   "cell_type": "code",
   "execution_count": 2,
   "id": "09d54c90-49c4-4b09-a6d5-33697d3a6a19",
   "metadata": {},
   "outputs": [
    {
     "data": {
      "text/plain": [
       "<tensorflow.python.training.tracking.util.CheckpointLoadStatus at 0x7ff03c6a47b8>"
      ]
     },
     "execution_count": 2,
     "metadata": {},
     "output_type": "execute_result"
    }
   ],
   "source": [
    "vocab_enc = max(inp_tok.index_word.keys())+5\n",
    "vocab_dec = max(out_tok.index_word)+5\n",
    "units     = load_config[\"units\"]\n",
    "embed_dim = load_config[\"embed_size\"]\n",
    "batch = 1\n",
    "ENCODER_MODEL = model_utils.Encoder(lstm_units=units,embed_dim=embed_dim,vocab=vocab_enc,batch_size=batch)\n",
    "DECODER_MODEL = model_utils.Decoder(lstm_units=units,embed_dim=embed_dim,vocab=vocab_dec,batch_size=batch)\n",
    "\n",
    "\n",
    "checkpoint = tf.train.Checkpoint(encoder=ENCODER_MODEL,\n",
    "                                decoder=DECODER_MODEL)\n",
    "checkpoint.restore(tf.train.latest_checkpoint(checkpoint_dir))"
   ]
  },
  {
   "cell_type": "markdown",
   "id": "ff290e5e-620a-4bf5-8023-9d790c81b7fd",
   "metadata": {},
   "source": [
    "### Demo model Prediction decoder"
   ]
  },
  {
   "cell_type": "code",
   "execution_count": 8,
   "id": "48cd1e21-6679-4972-b049-3291743a0e43",
   "metadata": {},
   "outputs": [
    {
     "name": "stdout",
     "output_type": "stream",
     "text": [
      "Input : listen to this\n",
      "Prediction : இதைக் கேள் \n"
     ]
    }
   ],
   "source": [
    "input_sentence = \"listen to this\"\n",
    "input_seq,output_seq = model_utils.inference(sent=input_sentence,infer_enc=ENCODER_MODEL,infer_dec=DECODER_MODEL,\n",
    "                                             input_config=input_config,output_config=output_config,\n",
    "                                             json_file=load_config[\"input_vectorizer\"],out_tok=out_tok)\n",
    "print(f\"Input : {input_seq}\")\n",
    "print(f\"Prediction : {output_seq}\")"
   ]
  }
 ],
 "metadata": {
  "kernelspec": {
   "display_name": "tf2.5",
   "language": "python",
   "name": "tf2.5"
  },
  "language_info": {
   "codemirror_mode": {
    "name": "ipython",
    "version": 3
   },
   "file_extension": ".py",
   "mimetype": "text/x-python",
   "name": "python",
   "nbconvert_exporter": "python",
   "pygments_lexer": "ipython3",
   "version": "3.6.9"
  }
 },
 "nbformat": 4,
 "nbformat_minor": 5
}
